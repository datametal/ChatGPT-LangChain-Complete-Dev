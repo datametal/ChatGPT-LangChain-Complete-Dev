{
  "nbformat": 4,
  "nbformat_minor": 0,
  "metadata": {
    "colab": {
      "provenance": [],
      "include_colab_link": true
    },
    "kernelspec": {
      "name": "python3",
      "display_name": "Python 3"
    },
    "language_info": {
      "name": "python"
    }
  },
  "cells": [
    {
      "cell_type": "markdown",
      "metadata": {
        "id": "view-in-github",
        "colab_type": "text"
      },
      "source": [
        "<a href=\"https://colab.research.google.com/github/datametal/ChatGPT-LangChain-Complete-Dev/blob/main/knowledgegraphbootcamp_workingwithneo4j.ipynb\" target=\"_parent\"><img src=\"https://colab.research.google.com/assets/colab-badge.svg\" alt=\"Open In Colab\"/></a>"
      ]
    },
    {
      "cell_type": "markdown",
      "source": [
        "# Hands-On: Working with Neo4J\n",
        "\n",
        "In this hands-on session we will use a free Neo4j Sandbox database and we will explore a very basic of movies in order to understand better the property graph data model and the Cypher query language.  \n",
        "\n",
        "For a more comprehensive guide on Cypher consider the following resources:\n",
        "\n",
        "* [Neo4j Cheat Sheet](https://quickref.me/neo4j)\n",
        "* [Cypher Reference Card](https://neo4j.com/docs/cypher-cheat-sheet/5/auradb-enterprise/)"
      ],
      "metadata": {
        "id": "34xbbh5rGPWy"
      }
    },
    {
      "cell_type": "markdown",
      "source": [
        "## Create a Neo4J sandbox database instance\n",
        "\n",
        "To create an instance go to this [link](https://sandbox.neo4j.com/), log in, and click on \"New Project.\"  From here, select the Movies graph and \"Create\".\n",
        "\n",
        "NOTE: This instance will be read-only; we won't be able to add/edit data\n"
      ],
      "metadata": {
        "id": "hf2UqujIooPI"
      }
    },
    {
      "cell_type": "markdown",
      "source": [
        "## Connect to the database\n",
        "\n",
        "To connect to the instance we need to specify the Bolt URL, the username and the password. These are available under \"Connection Details\" tab."
      ],
      "metadata": {
        "id": "NDu8R8koo5uY"
      }
    },
    {
      "cell_type": "code",
      "source": [
        "bolt_url = \"\"\n",
        "username = \"\"\n",
        "pwd = \"\""
      ],
      "metadata": {
        "id": "MZAd4WCD0SE6"
      },
      "execution_count": null,
      "outputs": []
    },
    {
      "cell_type": "markdown",
      "source": [
        "Then we can connect to the database instance using the py2neo library."
      ],
      "metadata": {
        "id": "dodOZSHSDDQe"
      }
    },
    {
      "cell_type": "code",
      "source": [
        "! pip install py2neo"
      ],
      "metadata": {
        "id": "ChPTSrHstOM7"
      },
      "execution_count": null,
      "outputs": []
    },
    {
      "cell_type": "code",
      "source": [
        "from py2neo import Graph\n",
        "conn = Graph(bolt_url, auth=(username, pwd))"
      ],
      "metadata": {
        "id": "hDqMPt7BpShC"
      },
      "execution_count": null,
      "outputs": []
    },
    {
      "cell_type": "markdown",
      "source": [
        "## Investigate the graph schema"
      ],
      "metadata": {
        "id": "_vMQLxwjzKdS"
      }
    },
    {
      "cell_type": "markdown",
      "source": [
        "### Get all labels and their node count"
      ],
      "metadata": {
        "id": "QRALtOqMvXfF"
      }
    },
    {
      "cell_type": "code",
      "source": [
        "query = \"\"\"MATCH (n) RETURN distinct labels(n), count(n)\"\"\"\n",
        "result = conn.query(query)\n",
        "result\n",
        "\n"
      ],
      "metadata": {
        "id": "IS-Nh2HApK2E"
      },
      "execution_count": null,
      "outputs": []
    },
    {
      "cell_type": "markdown",
      "source": [
        "### Get outgoing relations of \"Person\" nodes"
      ],
      "metadata": {
        "id": "CJnLuvDNwru9"
      }
    },
    {
      "cell_type": "code",
      "source": [
        "outgoing_relations_query = \"\"\"MATCH (:Person)-[r]->(n) RETURN distinct type(r), labels(n)\"\"\"\n",
        "result = conn.query(outgoing_relations_query).data()\n",
        "result"
      ],
      "metadata": {
        "id": "9z20zSsSv49n"
      },
      "execution_count": null,
      "outputs": []
    },
    {
      "cell_type": "markdown",
      "source": [
        "### *Question*: How would you identify the incoming relations of \"Movie\" nodes?"
      ],
      "metadata": {
        "id": "pkV0zrPcyGYC"
      }
    },
    {
      "cell_type": "code",
      "source": [
        "# insert your code here\n",
        "query = \"\"\"MATCH (:Movie)<-[r]-(n) RETURN distinct type(r), labels(n)\"\"\"\n",
        "result = conn.query(query).data()\n",
        "result"
      ],
      "metadata": {
        "id": "0qD6VToNx6bM"
      },
      "execution_count": null,
      "outputs": []
    },
    {
      "cell_type": "markdown",
      "source": [
        "### Get node properties per label"
      ],
      "metadata": {
        "id": "R54BJc3pygDx"
      }
    },
    {
      "cell_type": "code",
      "source": [
        "query = \"\"\"call db.schema.nodeTypeProperties()\"\"\"\n",
        "result = conn.query(query).data()\n",
        "result\n",
        "\n"
      ],
      "metadata": {
        "id": "RnWlQ82IyN8D"
      },
      "execution_count": null,
      "outputs": []
    },
    {
      "cell_type": "markdown",
      "source": [
        "## Querying the data"
      ],
      "metadata": {
        "id": "CKm0gQkV1QQi"
      }
    },
    {
      "cell_type": "markdown",
      "source": [
        "### Find all the movies Tom Hanks acted in"
      ],
      "metadata": {
        "id": "xNaksY_41zhQ"
      }
    },
    {
      "cell_type": "code",
      "source": [
        "query = \"\"\"MATCH (n:Person {name:\"Tom Hanks\"})-[r:ACTED_IN]->(m:Movie)RETURN m.title\"\"\"\n",
        "result = conn.query(query).data()\n",
        "result"
      ],
      "metadata": {
        "id": "2pxIAFiE1iNZ"
      },
      "execution_count": null,
      "outputs": []
    },
    {
      "cell_type": "markdown",
      "source": [
        "### Find all the movies Tom Hanks acted in AND directed"
      ],
      "metadata": {
        "id": "A9IFXvIU3JVO"
      }
    },
    {
      "cell_type": "code",
      "source": [
        "query = \"\"\"MATCH (n:Person {name:\"Tom Hanks\"})-[:ACTED_IN]->(m:Movie)<-[:DIRECTED]-(n) RETURN m.title\"\"\"\n",
        "result = conn.query(query).data()\n",
        "result"
      ],
      "metadata": {
        "colab": {
          "base_uri": "https://localhost:8080/"
        },
        "id": "bsN7Wuh73SW3",
        "outputId": "6d73f3d6-dfe2-4f21-bdc3-bce51151e71b"
      },
      "execution_count": null,
      "outputs": [
        {
          "output_type": "execute_result",
          "data": {
            "text/plain": [
              "[{'m.title': 'That Thing You Do'}]"
            ]
          },
          "metadata": {},
          "execution_count": 9
        }
      ]
    },
    {
      "cell_type": "markdown",
      "source": [
        "### Find the persons who have not directed a movie"
      ],
      "metadata": {
        "id": "-8aNDTmY30R2"
      }
    },
    {
      "cell_type": "code",
      "source": [
        "query = \"\"\"MATCH (n:Person) WHERE NOT (n)-[:DIRECTED]->() return n.name\"\"\"\n",
        "result = conn.query(query).data()\n",
        "result"
      ],
      "metadata": {
        "id": "X4bVee1536Lu"
      },
      "execution_count": null,
      "outputs": []
    },
    {
      "cell_type": "markdown",
      "source": [
        "### Question: How would you find the movies that have been reviewed?"
      ],
      "metadata": {
        "id": "ye_dp7rC7hYb"
      }
    },
    {
      "cell_type": "code",
      "source": [
        "# insert your code here\n",
        "query = \"\"\"MATCH (n:Movie) WHERE ()-[:REVIEWED]->(n) return n.title\"\"\"\n",
        "result = conn.query(query).data()\n",
        "result"
      ],
      "metadata": {
        "id": "ctsRu_Su7qYb"
      },
      "execution_count": null,
      "outputs": []
    },
    {
      "cell_type": "code",
      "source": [],
      "metadata": {
        "id": "u3KuXPlpnc8v"
      },
      "execution_count": null,
      "outputs": []
    }
  ]
}